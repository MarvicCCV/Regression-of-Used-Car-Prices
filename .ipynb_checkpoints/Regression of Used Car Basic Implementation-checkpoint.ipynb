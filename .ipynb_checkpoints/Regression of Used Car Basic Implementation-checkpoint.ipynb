{
 "cells": [
  {
   "cell_type": "code",
   "execution_count": 1,
   "id": "dae90bb1",
   "metadata": {},
   "outputs": [],
   "source": [
    "import pandas as pd\n",
    "import numpy as np\n",
    "import matplotlib.pyplot as plt\n",
    "import seaborn as sns\n",
    "\n",
    "\n",
    "pd.set_option('display.max_rows', 100)\n",
    "pd.set_option('display.max_columns', 100)"
   ]
  },
  {
   "cell_type": "markdown",
   "id": "719460f7",
   "metadata": {},
   "source": [
    "### Loading and preliminary understanding of the data"
   ]
  },
  {
   "cell_type": "code",
   "execution_count": 2,
   "id": "fafa9a4e",
   "metadata": {},
   "outputs": [],
   "source": [
    "train_df = pd.read_csv('data/train.csv')\n",
    "test_df = pd.read_csv('data/test.csv')"
   ]
  },
  {
   "cell_type": "code",
   "execution_count": 3,
   "id": "854af4f0",
   "metadata": {},
   "outputs": [
    {
     "data": {
      "text/html": [
       "<div>\n",
       "<style scoped>\n",
       "    .dataframe tbody tr th:only-of-type {\n",
       "        vertical-align: middle;\n",
       "    }\n",
       "\n",
       "    .dataframe tbody tr th {\n",
       "        vertical-align: top;\n",
       "    }\n",
       "\n",
       "    .dataframe thead th {\n",
       "        text-align: right;\n",
       "    }\n",
       "</style>\n",
       "<table border=\"1\" class=\"dataframe\">\n",
       "  <thead>\n",
       "    <tr style=\"text-align: right;\">\n",
       "      <th></th>\n",
       "      <th>id</th>\n",
       "      <th>brand</th>\n",
       "      <th>model</th>\n",
       "      <th>model_year</th>\n",
       "      <th>milage</th>\n",
       "      <th>fuel_type</th>\n",
       "      <th>engine</th>\n",
       "      <th>transmission</th>\n",
       "      <th>ext_col</th>\n",
       "      <th>int_col</th>\n",
       "      <th>accident</th>\n",
       "      <th>clean_title</th>\n",
       "      <th>price</th>\n",
       "    </tr>\n",
       "  </thead>\n",
       "  <tbody>\n",
       "    <tr>\n",
       "      <th>0</th>\n",
       "      <td>0</td>\n",
       "      <td>MINI</td>\n",
       "      <td>Cooper S Base</td>\n",
       "      <td>2007</td>\n",
       "      <td>213000</td>\n",
       "      <td>Gasoline</td>\n",
       "      <td>172.0HP 1.6L 4 Cylinder Engine Gasoline Fuel</td>\n",
       "      <td>A/T</td>\n",
       "      <td>Yellow</td>\n",
       "      <td>Gray</td>\n",
       "      <td>None reported</td>\n",
       "      <td>Yes</td>\n",
       "      <td>4200</td>\n",
       "    </tr>\n",
       "    <tr>\n",
       "      <th>1</th>\n",
       "      <td>1</td>\n",
       "      <td>Lincoln</td>\n",
       "      <td>LS V8</td>\n",
       "      <td>2002</td>\n",
       "      <td>143250</td>\n",
       "      <td>Gasoline</td>\n",
       "      <td>252.0HP 3.9L 8 Cylinder Engine Gasoline Fuel</td>\n",
       "      <td>A/T</td>\n",
       "      <td>Silver</td>\n",
       "      <td>Beige</td>\n",
       "      <td>At least 1 accident or damage reported</td>\n",
       "      <td>Yes</td>\n",
       "      <td>4999</td>\n",
       "    </tr>\n",
       "    <tr>\n",
       "      <th>2</th>\n",
       "      <td>2</td>\n",
       "      <td>Chevrolet</td>\n",
       "      <td>Silverado 2500 LT</td>\n",
       "      <td>2002</td>\n",
       "      <td>136731</td>\n",
       "      <td>E85 Flex Fuel</td>\n",
       "      <td>320.0HP 5.3L 8 Cylinder Engine Flex Fuel Capab...</td>\n",
       "      <td>A/T</td>\n",
       "      <td>Blue</td>\n",
       "      <td>Gray</td>\n",
       "      <td>None reported</td>\n",
       "      <td>Yes</td>\n",
       "      <td>13900</td>\n",
       "    </tr>\n",
       "    <tr>\n",
       "      <th>3</th>\n",
       "      <td>3</td>\n",
       "      <td>Genesis</td>\n",
       "      <td>G90 5.0 Ultimate</td>\n",
       "      <td>2017</td>\n",
       "      <td>19500</td>\n",
       "      <td>Gasoline</td>\n",
       "      <td>420.0HP 5.0L 8 Cylinder Engine Gasoline Fuel</td>\n",
       "      <td>Transmission w/Dual Shift Mode</td>\n",
       "      <td>Black</td>\n",
       "      <td>Black</td>\n",
       "      <td>None reported</td>\n",
       "      <td>Yes</td>\n",
       "      <td>45000</td>\n",
       "    </tr>\n",
       "    <tr>\n",
       "      <th>4</th>\n",
       "      <td>4</td>\n",
       "      <td>Mercedes-Benz</td>\n",
       "      <td>Metris Base</td>\n",
       "      <td>2021</td>\n",
       "      <td>7388</td>\n",
       "      <td>Gasoline</td>\n",
       "      <td>208.0HP 2.0L 4 Cylinder Engine Gasoline Fuel</td>\n",
       "      <td>7-Speed A/T</td>\n",
       "      <td>Black</td>\n",
       "      <td>Beige</td>\n",
       "      <td>None reported</td>\n",
       "      <td>Yes</td>\n",
       "      <td>97500</td>\n",
       "    </tr>\n",
       "    <tr>\n",
       "      <th>...</th>\n",
       "      <td>...</td>\n",
       "      <td>...</td>\n",
       "      <td>...</td>\n",
       "      <td>...</td>\n",
       "      <td>...</td>\n",
       "      <td>...</td>\n",
       "      <td>...</td>\n",
       "      <td>...</td>\n",
       "      <td>...</td>\n",
       "      <td>...</td>\n",
       "      <td>...</td>\n",
       "      <td>...</td>\n",
       "      <td>...</td>\n",
       "    </tr>\n",
       "    <tr>\n",
       "      <th>188528</th>\n",
       "      <td>188528</td>\n",
       "      <td>Cadillac</td>\n",
       "      <td>Escalade ESV Platinum</td>\n",
       "      <td>2017</td>\n",
       "      <td>49000</td>\n",
       "      <td>Gasoline</td>\n",
       "      <td>420.0HP 6.2L 8 Cylinder Engine Gasoline Fuel</td>\n",
       "      <td>Transmission w/Dual Shift Mode</td>\n",
       "      <td>White</td>\n",
       "      <td>Beige</td>\n",
       "      <td>None reported</td>\n",
       "      <td>Yes</td>\n",
       "      <td>27500</td>\n",
       "    </tr>\n",
       "    <tr>\n",
       "      <th>188529</th>\n",
       "      <td>188529</td>\n",
       "      <td>Mercedes-Benz</td>\n",
       "      <td>AMG C 43 AMG C 43 4MATIC</td>\n",
       "      <td>2018</td>\n",
       "      <td>28600</td>\n",
       "      <td>Gasoline</td>\n",
       "      <td>385.0HP 3.0L V6 Cylinder Engine Gasoline Fuel</td>\n",
       "      <td>8-Speed A/T</td>\n",
       "      <td>White</td>\n",
       "      <td>Black</td>\n",
       "      <td>At least 1 accident or damage reported</td>\n",
       "      <td>Yes</td>\n",
       "      <td>30000</td>\n",
       "    </tr>\n",
       "    <tr>\n",
       "      <th>188530</th>\n",
       "      <td>188530</td>\n",
       "      <td>Mercedes-Benz</td>\n",
       "      <td>AMG GLC 63 Base 4MATIC</td>\n",
       "      <td>2021</td>\n",
       "      <td>13650</td>\n",
       "      <td>Gasoline</td>\n",
       "      <td>469.0HP 4.0L 8 Cylinder Engine Gasoline Fuel</td>\n",
       "      <td>7-Speed A/T</td>\n",
       "      <td>White</td>\n",
       "      <td>Black</td>\n",
       "      <td>None reported</td>\n",
       "      <td>Yes</td>\n",
       "      <td>86900</td>\n",
       "    </tr>\n",
       "    <tr>\n",
       "      <th>188531</th>\n",
       "      <td>188531</td>\n",
       "      <td>Audi</td>\n",
       "      <td>S5 3.0T Prestige</td>\n",
       "      <td>2022</td>\n",
       "      <td>13895</td>\n",
       "      <td>Gasoline</td>\n",
       "      <td>3.0L</td>\n",
       "      <td>1-Speed Automatic</td>\n",
       "      <td>Daytona Gray Pearl Effect</td>\n",
       "      <td>Black</td>\n",
       "      <td>None reported</td>\n",
       "      <td>NaN</td>\n",
       "      <td>84900</td>\n",
       "    </tr>\n",
       "    <tr>\n",
       "      <th>188532</th>\n",
       "      <td>188532</td>\n",
       "      <td>Porsche</td>\n",
       "      <td>Macan Base</td>\n",
       "      <td>2016</td>\n",
       "      <td>59500</td>\n",
       "      <td>Gasoline</td>\n",
       "      <td>252.0HP 2.0L 4 Cylinder Engine Gasoline Fuel</td>\n",
       "      <td>Transmission w/Dual Shift Mode</td>\n",
       "      <td>White</td>\n",
       "      <td>Black</td>\n",
       "      <td>None reported</td>\n",
       "      <td>Yes</td>\n",
       "      <td>28995</td>\n",
       "    </tr>\n",
       "  </tbody>\n",
       "</table>\n",
       "<p>188533 rows × 13 columns</p>\n",
       "</div>"
      ],
      "text/plain": [
       "            id          brand                     model  model_year  milage  \\\n",
       "0            0           MINI             Cooper S Base        2007  213000   \n",
       "1            1        Lincoln                     LS V8        2002  143250   \n",
       "2            2      Chevrolet         Silverado 2500 LT        2002  136731   \n",
       "3            3        Genesis          G90 5.0 Ultimate        2017   19500   \n",
       "4            4  Mercedes-Benz               Metris Base        2021    7388   \n",
       "...        ...            ...                       ...         ...     ...   \n",
       "188528  188528       Cadillac     Escalade ESV Platinum        2017   49000   \n",
       "188529  188529  Mercedes-Benz  AMG C 43 AMG C 43 4MATIC        2018   28600   \n",
       "188530  188530  Mercedes-Benz    AMG GLC 63 Base 4MATIC        2021   13650   \n",
       "188531  188531           Audi          S5 3.0T Prestige        2022   13895   \n",
       "188532  188532        Porsche                Macan Base        2016   59500   \n",
       "\n",
       "            fuel_type                                             engine  \\\n",
       "0            Gasoline       172.0HP 1.6L 4 Cylinder Engine Gasoline Fuel   \n",
       "1            Gasoline       252.0HP 3.9L 8 Cylinder Engine Gasoline Fuel   \n",
       "2       E85 Flex Fuel  320.0HP 5.3L 8 Cylinder Engine Flex Fuel Capab...   \n",
       "3            Gasoline       420.0HP 5.0L 8 Cylinder Engine Gasoline Fuel   \n",
       "4            Gasoline       208.0HP 2.0L 4 Cylinder Engine Gasoline Fuel   \n",
       "...               ...                                                ...   \n",
       "188528       Gasoline       420.0HP 6.2L 8 Cylinder Engine Gasoline Fuel   \n",
       "188529       Gasoline      385.0HP 3.0L V6 Cylinder Engine Gasoline Fuel   \n",
       "188530       Gasoline       469.0HP 4.0L 8 Cylinder Engine Gasoline Fuel   \n",
       "188531       Gasoline                                               3.0L   \n",
       "188532       Gasoline       252.0HP 2.0L 4 Cylinder Engine Gasoline Fuel   \n",
       "\n",
       "                          transmission                    ext_col int_col  \\\n",
       "0                                  A/T                     Yellow    Gray   \n",
       "1                                  A/T                     Silver   Beige   \n",
       "2                                  A/T                       Blue    Gray   \n",
       "3       Transmission w/Dual Shift Mode                      Black   Black   \n",
       "4                          7-Speed A/T                      Black   Beige   \n",
       "...                                ...                        ...     ...   \n",
       "188528  Transmission w/Dual Shift Mode                      White   Beige   \n",
       "188529                     8-Speed A/T                      White   Black   \n",
       "188530                     7-Speed A/T                      White   Black   \n",
       "188531               1-Speed Automatic  Daytona Gray Pearl Effect   Black   \n",
       "188532  Transmission w/Dual Shift Mode                      White   Black   \n",
       "\n",
       "                                      accident clean_title  price  \n",
       "0                                None reported         Yes   4200  \n",
       "1       At least 1 accident or damage reported         Yes   4999  \n",
       "2                                None reported         Yes  13900  \n",
       "3                                None reported         Yes  45000  \n",
       "4                                None reported         Yes  97500  \n",
       "...                                        ...         ...    ...  \n",
       "188528                           None reported         Yes  27500  \n",
       "188529  At least 1 accident or damage reported         Yes  30000  \n",
       "188530                           None reported         Yes  86900  \n",
       "188531                           None reported         NaN  84900  \n",
       "188532                           None reported         Yes  28995  \n",
       "\n",
       "[188533 rows x 13 columns]"
      ]
     },
     "execution_count": 3,
     "metadata": {},
     "output_type": "execute_result"
    }
   ],
   "source": [
    "train_df"
   ]
  },
  {
   "cell_type": "code",
   "execution_count": 4,
   "id": "0d491eec",
   "metadata": {},
   "outputs": [
    {
     "data": {
      "text/plain": [
       "(188533, 13)"
      ]
     },
     "execution_count": 4,
     "metadata": {},
     "output_type": "execute_result"
    }
   ],
   "source": [
    "train_df.shape"
   ]
  },
  {
   "cell_type": "code",
   "execution_count": 5,
   "id": "7e29f5fd",
   "metadata": {},
   "outputs": [
    {
     "data": {
      "text/plain": [
       "id               int64\n",
       "brand           object\n",
       "model           object\n",
       "model_year       int64\n",
       "milage           int64\n",
       "fuel_type       object\n",
       "engine          object\n",
       "transmission    object\n",
       "ext_col         object\n",
       "int_col         object\n",
       "accident        object\n",
       "clean_title     object\n",
       "price            int64\n",
       "dtype: object"
      ]
     },
     "execution_count": 5,
     "metadata": {},
     "output_type": "execute_result"
    }
   ],
   "source": [
    "train_df.dtypes"
   ]
  },
  {
   "cell_type": "code",
   "execution_count": 6,
   "id": "f3b0682a",
   "metadata": {},
   "outputs": [
    {
     "data": {
      "text/plain": [
       "id                  0\n",
       "brand               0\n",
       "model               0\n",
       "model_year          0\n",
       "milage              0\n",
       "fuel_type        5083\n",
       "engine              0\n",
       "transmission        0\n",
       "ext_col             0\n",
       "int_col             0\n",
       "accident         2452\n",
       "clean_title     21419\n",
       "price               0\n",
       "dtype: int64"
      ]
     },
     "execution_count": 6,
     "metadata": {},
     "output_type": "execute_result"
    }
   ],
   "source": [
    "# Checking the number of null values in each column in the dataset\n",
    "train_df.isnull().sum()"
   ]
  },
  {
   "cell_type": "code",
   "execution_count": 7,
   "id": "008e94c2",
   "metadata": {},
   "outputs": [
    {
     "data": {
      "text/plain": [
       "id                  0\n",
       "brand               0\n",
       "model               0\n",
       "model_year          0\n",
       "milage              0\n",
       "fuel_type        5083\n",
       "engine              0\n",
       "transmission        0\n",
       "ext_col             0\n",
       "int_col             0\n",
       "accident         2452\n",
       "clean_title     21419\n",
       "price               0\n",
       "dtype: int64"
      ]
     },
     "execution_count": 7,
     "metadata": {},
     "output_type": "execute_result"
    }
   ],
   "source": [
    "train_df.isna().sum()"
   ]
  },
  {
   "cell_type": "code",
   "execution_count": 8,
   "id": "0f5031e9",
   "metadata": {},
   "outputs": [
    {
     "data": {
      "text/plain": [
       "id              188533\n",
       "brand               57\n",
       "model             1897\n",
       "model_year          34\n",
       "milage            6651\n",
       "fuel_type            7\n",
       "engine            1117\n",
       "transmission        52\n",
       "ext_col            319\n",
       "int_col            156\n",
       "accident             2\n",
       "clean_title          1\n",
       "price             1569\n",
       "dtype: int64"
      ]
     },
     "execution_count": 8,
     "metadata": {},
     "output_type": "execute_result"
    }
   ],
   "source": [
    "train_df.nunique()"
   ]
  },
  {
   "cell_type": "code",
   "execution_count": 9,
   "id": "ee4e1764",
   "metadata": {},
   "outputs": [],
   "source": [
    "# Columns you're interested in checking unique values\n",
    "columns_to_check = ['brand', 'model_year', 'transmission']\n",
    "\n",
    "# Get the unique values for each column and store them in a DataFrame\n",
    "#unique_values_dict = {col: train_df[col].unique() for col in columns_to_check}\n",
    "#unique_values_df = pd.DataFrame(dict([(k, pd.Series(v)) for k,v in unique_values_dict.items()]))\n",
    "\n",
    "# Display the unique values DataFrame\n",
    "#print(unique_values_df)"
   ]
  },
  {
   "cell_type": "code",
   "execution_count": 10,
   "id": "50d3e946",
   "metadata": {},
   "outputs": [
    {
     "data": {
      "text/plain": [
       "array(['Cooper S Base', 'LS V8', 'Silverado 2500 LT', ..., 'e-Golf SE',\n",
       "       'Integra w/A-Spec Tech Package', 'IONIQ Plug-In Hybrid SEL'],\n",
       "      dtype=object)"
      ]
     },
     "execution_count": 10,
     "metadata": {},
     "output_type": "execute_result"
    }
   ],
   "source": [
    "train_df['model'].unique()"
   ]
  },
  {
   "cell_type": "code",
   "execution_count": 11,
   "id": "71dc2d68",
   "metadata": {},
   "outputs": [
    {
     "data": {
      "text/html": [
       "<div>\n",
       "<style scoped>\n",
       "    .dataframe tbody tr th:only-of-type {\n",
       "        vertical-align: middle;\n",
       "    }\n",
       "\n",
       "    .dataframe tbody tr th {\n",
       "        vertical-align: top;\n",
       "    }\n",
       "\n",
       "    .dataframe thead th {\n",
       "        text-align: right;\n",
       "    }\n",
       "</style>\n",
       "<table border=\"1\" class=\"dataframe\">\n",
       "  <thead>\n",
       "    <tr style=\"text-align: right;\">\n",
       "      <th></th>\n",
       "      <th>id</th>\n",
       "      <th>model_year</th>\n",
       "      <th>milage</th>\n",
       "      <th>price</th>\n",
       "    </tr>\n",
       "  </thead>\n",
       "  <tbody>\n",
       "    <tr>\n",
       "      <th>count</th>\n",
       "      <td>188533.000000</td>\n",
       "      <td>188533.000000</td>\n",
       "      <td>188533.000000</td>\n",
       "      <td>1.885330e+05</td>\n",
       "    </tr>\n",
       "    <tr>\n",
       "      <th>mean</th>\n",
       "      <td>94266.000000</td>\n",
       "      <td>2015.829998</td>\n",
       "      <td>65705.295174</td>\n",
       "      <td>4.387802e+04</td>\n",
       "    </tr>\n",
       "    <tr>\n",
       "      <th>std</th>\n",
       "      <td>54424.933488</td>\n",
       "      <td>5.660967</td>\n",
       "      <td>49798.158076</td>\n",
       "      <td>7.881952e+04</td>\n",
       "    </tr>\n",
       "    <tr>\n",
       "      <th>min</th>\n",
       "      <td>0.000000</td>\n",
       "      <td>1974.000000</td>\n",
       "      <td>100.000000</td>\n",
       "      <td>2.000000e+03</td>\n",
       "    </tr>\n",
       "    <tr>\n",
       "      <th>25%</th>\n",
       "      <td>47133.000000</td>\n",
       "      <td>2013.000000</td>\n",
       "      <td>24115.000000</td>\n",
       "      <td>1.700000e+04</td>\n",
       "    </tr>\n",
       "    <tr>\n",
       "      <th>50%</th>\n",
       "      <td>94266.000000</td>\n",
       "      <td>2017.000000</td>\n",
       "      <td>57785.000000</td>\n",
       "      <td>3.082500e+04</td>\n",
       "    </tr>\n",
       "    <tr>\n",
       "      <th>75%</th>\n",
       "      <td>141399.000000</td>\n",
       "      <td>2020.000000</td>\n",
       "      <td>95400.000000</td>\n",
       "      <td>4.990000e+04</td>\n",
       "    </tr>\n",
       "    <tr>\n",
       "      <th>max</th>\n",
       "      <td>188532.000000</td>\n",
       "      <td>2024.000000</td>\n",
       "      <td>405000.000000</td>\n",
       "      <td>2.954083e+06</td>\n",
       "    </tr>\n",
       "  </tbody>\n",
       "</table>\n",
       "</div>"
      ],
      "text/plain": [
       "                  id     model_year         milage         price\n",
       "count  188533.000000  188533.000000  188533.000000  1.885330e+05\n",
       "mean    94266.000000    2015.829998   65705.295174  4.387802e+04\n",
       "std     54424.933488       5.660967   49798.158076  7.881952e+04\n",
       "min         0.000000    1974.000000     100.000000  2.000000e+03\n",
       "25%     47133.000000    2013.000000   24115.000000  1.700000e+04\n",
       "50%     94266.000000    2017.000000   57785.000000  3.082500e+04\n",
       "75%    141399.000000    2020.000000   95400.000000  4.990000e+04\n",
       "max    188532.000000    2024.000000  405000.000000  2.954083e+06"
      ]
     },
     "execution_count": 11,
     "metadata": {},
     "output_type": "execute_result"
    }
   ],
   "source": [
    "train_df.describe()"
   ]
  },
  {
   "cell_type": "code",
   "execution_count": 12,
   "id": "89bdf6bd",
   "metadata": {},
   "outputs": [
    {
     "data": {
      "text/plain": [
       "2954083"
      ]
     },
     "execution_count": 12,
     "metadata": {},
     "output_type": "execute_result"
    }
   ],
   "source": [
    "train_df['price'].max()"
   ]
  },
  {
   "cell_type": "code",
   "execution_count": 13,
   "id": "fbca09a2",
   "metadata": {},
   "outputs": [
    {
     "data": {
      "text/plain": [
       "30825.0"
      ]
     },
     "execution_count": 13,
     "metadata": {},
     "output_type": "execute_result"
    }
   ],
   "source": [
    "train_df['price'].median()"
   ]
  },
  {
   "cell_type": "code",
   "execution_count": 14,
   "id": "022867a4",
   "metadata": {},
   "outputs": [
    {
     "data": {
      "text/plain": [
       "43878.01617753921"
      ]
     },
     "execution_count": 14,
     "metadata": {},
     "output_type": "execute_result"
    }
   ],
   "source": [
    "train_df['price'].mean()"
   ]
  },
  {
   "cell_type": "code",
   "execution_count": 15,
   "id": "948122bd",
   "metadata": {},
   "outputs": [
    {
     "data": {
      "text/plain": [
       "405000"
      ]
     },
     "execution_count": 15,
     "metadata": {},
     "output_type": "execute_result"
    }
   ],
   "source": [
    "train_df['milage'].max()"
   ]
  },
  {
   "cell_type": "code",
   "execution_count": 16,
   "id": "ec4bc1a2",
   "metadata": {},
   "outputs": [
    {
     "data": {
      "text/plain": [
       "57785.0"
      ]
     },
     "execution_count": 16,
     "metadata": {},
     "output_type": "execute_result"
    }
   ],
   "source": [
    "train_df['milage'].median()"
   ]
  },
  {
   "cell_type": "code",
   "execution_count": 17,
   "id": "1ebcd898",
   "metadata": {},
   "outputs": [
    {
     "data": {
      "text/plain": [
       "id                  0\n",
       "brand               0\n",
       "model               0\n",
       "model_year          0\n",
       "milage              0\n",
       "fuel_type        5083\n",
       "engine              0\n",
       "transmission        0\n",
       "ext_col             0\n",
       "int_col             0\n",
       "accident         2452\n",
       "clean_title     21419\n",
       "price               0\n",
       "dtype: int64"
      ]
     },
     "execution_count": 17,
     "metadata": {},
     "output_type": "execute_result"
    }
   ],
   "source": [
    "train_df.isnull().sum()"
   ]
  },
  {
   "cell_type": "code",
   "execution_count": 18,
   "id": "b22c745f",
   "metadata": {},
   "outputs": [
    {
     "data": {
      "text/plain": [
       "array(['None reported', 'At least 1 accident or damage reported', nan],\n",
       "      dtype=object)"
      ]
     },
     "execution_count": 18,
     "metadata": {},
     "output_type": "execute_result"
    }
   ],
   "source": [
    "train_df['accident'].unique()"
   ]
  },
  {
   "cell_type": "code",
   "execution_count": 19,
   "id": "d22b5eea",
   "metadata": {},
   "outputs": [
    {
     "data": {
      "text/html": [
       "<div>\n",
       "<style scoped>\n",
       "    .dataframe tbody tr th:only-of-type {\n",
       "        vertical-align: middle;\n",
       "    }\n",
       "\n",
       "    .dataframe tbody tr th {\n",
       "        vertical-align: top;\n",
       "    }\n",
       "\n",
       "    .dataframe thead th {\n",
       "        text-align: right;\n",
       "    }\n",
       "</style>\n",
       "<table border=\"1\" class=\"dataframe\">\n",
       "  <thead>\n",
       "    <tr style=\"text-align: right;\">\n",
       "      <th></th>\n",
       "      <th>accident</th>\n",
       "      <th>clean_title</th>\n",
       "      <th>fuel_type</th>\n",
       "    </tr>\n",
       "  </thead>\n",
       "  <tbody>\n",
       "    <tr>\n",
       "      <th>0</th>\n",
       "      <td>None reported</td>\n",
       "      <td>Yes</td>\n",
       "      <td>Gasoline</td>\n",
       "    </tr>\n",
       "    <tr>\n",
       "      <th>1</th>\n",
       "      <td>At least 1 accident or damage reported</td>\n",
       "      <td>Yes</td>\n",
       "      <td>Gasoline</td>\n",
       "    </tr>\n",
       "    <tr>\n",
       "      <th>2</th>\n",
       "      <td>None reported</td>\n",
       "      <td>Yes</td>\n",
       "      <td>E85 Flex Fuel</td>\n",
       "    </tr>\n",
       "    <tr>\n",
       "      <th>3</th>\n",
       "      <td>None reported</td>\n",
       "      <td>Yes</td>\n",
       "      <td>Gasoline</td>\n",
       "    </tr>\n",
       "    <tr>\n",
       "      <th>4</th>\n",
       "      <td>None reported</td>\n",
       "      <td>Yes</td>\n",
       "      <td>Gasoline</td>\n",
       "    </tr>\n",
       "    <tr>\n",
       "      <th>...</th>\n",
       "      <td>...</td>\n",
       "      <td>...</td>\n",
       "      <td>...</td>\n",
       "    </tr>\n",
       "    <tr>\n",
       "      <th>188528</th>\n",
       "      <td>None reported</td>\n",
       "      <td>Yes</td>\n",
       "      <td>Gasoline</td>\n",
       "    </tr>\n",
       "    <tr>\n",
       "      <th>188529</th>\n",
       "      <td>At least 1 accident or damage reported</td>\n",
       "      <td>Yes</td>\n",
       "      <td>Gasoline</td>\n",
       "    </tr>\n",
       "    <tr>\n",
       "      <th>188530</th>\n",
       "      <td>None reported</td>\n",
       "      <td>Yes</td>\n",
       "      <td>Gasoline</td>\n",
       "    </tr>\n",
       "    <tr>\n",
       "      <th>188531</th>\n",
       "      <td>None reported</td>\n",
       "      <td>NaN</td>\n",
       "      <td>Gasoline</td>\n",
       "    </tr>\n",
       "    <tr>\n",
       "      <th>188532</th>\n",
       "      <td>None reported</td>\n",
       "      <td>Yes</td>\n",
       "      <td>Gasoline</td>\n",
       "    </tr>\n",
       "  </tbody>\n",
       "</table>\n",
       "<p>188533 rows × 3 columns</p>\n",
       "</div>"
      ],
      "text/plain": [
       "                                      accident clean_title      fuel_type\n",
       "0                                None reported         Yes       Gasoline\n",
       "1       At least 1 accident or damage reported         Yes       Gasoline\n",
       "2                                None reported         Yes  E85 Flex Fuel\n",
       "3                                None reported         Yes       Gasoline\n",
       "4                                None reported         Yes       Gasoline\n",
       "...                                        ...         ...            ...\n",
       "188528                           None reported         Yes       Gasoline\n",
       "188529  At least 1 accident or damage reported         Yes       Gasoline\n",
       "188530                           None reported         Yes       Gasoline\n",
       "188531                           None reported         NaN       Gasoline\n",
       "188532                           None reported         Yes       Gasoline\n",
       "\n",
       "[188533 rows x 3 columns]"
      ]
     },
     "execution_count": 19,
     "metadata": {},
     "output_type": "execute_result"
    }
   ],
   "source": [
    "train_df[['accident', 'clean_title', 'fuel_type']]"
   ]
  },
  {
   "cell_type": "code",
   "execution_count": 20,
   "id": "03f0cb93",
   "metadata": {},
   "outputs": [
    {
     "data": {
      "text/plain": [
       "array(['Gasoline', 'E85 Flex Fuel', nan, 'Hybrid', 'Diesel',\n",
       "       'Plug-In Hybrid', '–', 'not supported'], dtype=object)"
      ]
     },
     "execution_count": 20,
     "metadata": {},
     "output_type": "execute_result"
    }
   ],
   "source": [
    "train_df['fuel_type'].unique()"
   ]
  },
  {
   "cell_type": "code",
   "execution_count": 21,
   "id": "98dbf6e3",
   "metadata": {},
   "outputs": [
    {
     "data": {
      "text/plain": [
       "Gasoline          165940\n",
       "Hybrid              6832\n",
       "E85 Flex Fuel       5406\n",
       "Diesel              3955\n",
       "–                    781\n",
       "Plug-In Hybrid       521\n",
       "not supported         15\n",
       "Name: fuel_type, dtype: int64"
      ]
     },
     "execution_count": 21,
     "metadata": {},
     "output_type": "execute_result"
    }
   ],
   "source": [
    "train_df['fuel_type'].value_counts()"
   ]
  },
  {
   "cell_type": "code",
   "execution_count": 22,
   "id": "a67dd552",
   "metadata": {},
   "outputs": [
    {
     "data": {
      "text/plain": [
       "model_year\n",
       "1974       12\n",
       "1992       14\n",
       "1993      140\n",
       "1994       92\n",
       "1995      102\n",
       "1996      189\n",
       "1997      312\n",
       "1998      343\n",
       "1999      554\n",
       "2000      558\n",
       "2001     1534\n",
       "2002     1282\n",
       "2003     1906\n",
       "2004     2570\n",
       "2005     3129\n",
       "2006     2814\n",
       "2007     4876\n",
       "2008     5156\n",
       "2009     2716\n",
       "2010     4235\n",
       "2011     6265\n",
       "2012     6095\n",
       "2013     6796\n",
       "2014     8415\n",
       "2015    11389\n",
       "2016    13696\n",
       "2017    12794\n",
       "2018    16414\n",
       "2019    15409\n",
       "2020    15848\n",
       "2021    18198\n",
       "2022    15749\n",
       "2023     8769\n",
       "2024      162\n",
       "dtype: int64"
      ]
     },
     "execution_count": 22,
     "metadata": {},
     "output_type": "execute_result"
    }
   ],
   "source": [
    "train_df.groupby('model_year').size()"
   ]
  },
  {
   "cell_type": "code",
   "execution_count": 23,
   "id": "770d83b5",
   "metadata": {},
   "outputs": [
    {
     "data": {
      "text/plain": [
       "2021    18198\n",
       "2018    16414\n",
       "2020    15848\n",
       "2022    15749\n",
       "2019    15409\n",
       "2016    13696\n",
       "2017    12794\n",
       "2015    11389\n",
       "2023     8769\n",
       "2014     8415\n",
       "2013     6796\n",
       "2011     6265\n",
       "2012     6095\n",
       "2008     5156\n",
       "2007     4876\n",
       "2010     4235\n",
       "2005     3129\n",
       "2006     2814\n",
       "2009     2716\n",
       "2004     2570\n",
       "2003     1906\n",
       "2001     1534\n",
       "2002     1282\n",
       "2000      558\n",
       "1999      554\n",
       "1998      343\n",
       "1997      312\n",
       "1996      189\n",
       "2024      162\n",
       "1993      140\n",
       "1995      102\n",
       "1994       92\n",
       "1992       14\n",
       "1974       12\n",
       "Name: model_year, dtype: int64"
      ]
     },
     "execution_count": 23,
     "metadata": {},
     "output_type": "execute_result"
    }
   ],
   "source": [
    "train_df['model_year'].value_counts()"
   ]
  },
  {
   "cell_type": "code",
   "execution_count": 24,
   "id": "cc92c03b",
   "metadata": {},
   "outputs": [
    {
     "data": {
      "text/plain": [
       "None reported                             144514\n",
       "At least 1 accident or damage reported     41567\n",
       "Name: accident, dtype: int64"
      ]
     },
     "execution_count": 24,
     "metadata": {},
     "output_type": "execute_result"
    }
   ],
   "source": [
    "train_df['accident'].value_counts()"
   ]
  },
  {
   "cell_type": "code",
   "execution_count": 25,
   "id": "96719574",
   "metadata": {},
   "outputs": [
    {
     "data": {
      "text/plain": [
       "id                  0\n",
       "brand               0\n",
       "model               0\n",
       "model_year          0\n",
       "milage              0\n",
       "fuel_type        5083\n",
       "engine              0\n",
       "transmission        0\n",
       "ext_col             0\n",
       "int_col             0\n",
       "accident         2452\n",
       "clean_title     21419\n",
       "price               0\n",
       "dtype: int64"
      ]
     },
     "execution_count": 25,
     "metadata": {},
     "output_type": "execute_result"
    }
   ],
   "source": [
    "train_df.isnull().sum()"
   ]
  },
  {
   "cell_type": "code",
   "execution_count": 26,
   "id": "b2132f47",
   "metadata": {},
   "outputs": [
    {
     "data": {
      "text/plain": [
       "array(['Yes', nan], dtype=object)"
      ]
     },
     "execution_count": 26,
     "metadata": {},
     "output_type": "execute_result"
    }
   ],
   "source": [
    "train_df['clean_title'].unique()"
   ]
  },
  {
   "cell_type": "code",
   "execution_count": 27,
   "id": "de6b9767",
   "metadata": {},
   "outputs": [],
   "source": [
    "percentage_null = train_df.isna().sum() / len(train_df)"
   ]
  },
  {
   "cell_type": "code",
   "execution_count": 28,
   "id": "ea476d6b",
   "metadata": {},
   "outputs": [
    {
     "data": {
      "text/plain": [
       "id              0.000000\n",
       "brand           0.000000\n",
       "model           0.000000\n",
       "model_year      0.000000\n",
       "milage          0.000000\n",
       "fuel_type       0.026961\n",
       "engine          0.000000\n",
       "transmission    0.000000\n",
       "ext_col         0.000000\n",
       "int_col         0.000000\n",
       "accident        0.013006\n",
       "clean_title     0.113609\n",
       "price           0.000000\n",
       "dtype: float64"
      ]
     },
     "execution_count": 28,
     "metadata": {},
     "output_type": "execute_result"
    }
   ],
   "source": [
    "percentage_null"
   ]
  },
  {
   "cell_type": "code",
   "execution_count": 29,
   "id": "b861095b",
   "metadata": {},
   "outputs": [
    {
     "data": {
      "text/plain": [
       "Index(['id', 'brand', 'model', 'model_year', 'milage', 'fuel_type', 'engine',\n",
       "       'transmission', 'ext_col', 'int_col', 'accident', 'clean_title',\n",
       "       'price'],\n",
       "      dtype='object')"
      ]
     },
     "execution_count": 29,
     "metadata": {},
     "output_type": "execute_result"
    }
   ],
   "source": [
    "train_df.columns"
   ]
  },
  {
   "cell_type": "code",
   "execution_count": 30,
   "id": "55dd7d95",
   "metadata": {},
   "outputs": [],
   "source": [
    "nan_column = []\n",
    "\n",
    "for col in train_df.columns:\n",
    "    if train_df[col].isna().sum() > 0:\n",
    "        nan_column.append(col)\n",
    "        \n",
    "for col in nan_column:\n",
    "    most_freq = train_df[col].mode()[0]\n",
    "    train_df[col].fillna(most_freq, inplace=True)\n",
    "    test_df[col].fillna(most_freq, inplace=True)"
   ]
  },
  {
   "cell_type": "code",
   "execution_count": 31,
   "id": "0c13e356",
   "metadata": {},
   "outputs": [
    {
     "data": {
      "text/plain": [
       "['fuel_type', 'accident', 'clean_title']"
      ]
     },
     "execution_count": 31,
     "metadata": {},
     "output_type": "execute_result"
    }
   ],
   "source": [
    "nan_column"
   ]
  },
  {
   "cell_type": "code",
   "execution_count": 32,
   "id": "7482773b",
   "metadata": {},
   "outputs": [
    {
     "data": {
      "text/plain": [
       "id              0\n",
       "brand           0\n",
       "model           0\n",
       "model_year      0\n",
       "milage          0\n",
       "fuel_type       0\n",
       "engine          0\n",
       "transmission    0\n",
       "ext_col         0\n",
       "int_col         0\n",
       "accident        0\n",
       "clean_title     0\n",
       "dtype: int64"
      ]
     },
     "execution_count": 32,
     "metadata": {},
     "output_type": "execute_result"
    }
   ],
   "source": [
    "test_df.isna().sum()"
   ]
  },
  {
   "cell_type": "code",
   "execution_count": 33,
   "id": "ee968098",
   "metadata": {},
   "outputs": [
    {
     "data": {
      "text/plain": [
       "id              0\n",
       "brand           0\n",
       "model           0\n",
       "model_year      0\n",
       "milage          0\n",
       "fuel_type       0\n",
       "engine          0\n",
       "transmission    0\n",
       "ext_col         0\n",
       "int_col         0\n",
       "accident        0\n",
       "clean_title     0\n",
       "price           0\n",
       "dtype: int64"
      ]
     },
     "execution_count": 33,
     "metadata": {},
     "output_type": "execute_result"
    }
   ],
   "source": [
    "train_df.isna().sum()"
   ]
  },
  {
   "cell_type": "code",
   "execution_count": 34,
   "id": "f935cb92",
   "metadata": {},
   "outputs": [],
   "source": [
    "# Drop useless column\n",
    "\n",
    "train_df.drop('id', axis=1, inplace=True)"
   ]
  },
  {
   "cell_type": "code",
   "execution_count": 35,
   "id": "d13689ea",
   "metadata": {},
   "outputs": [
    {
     "name": "stdout",
     "output_type": "stream",
     "text": [
      "<class 'pandas.core.frame.DataFrame'>\n",
      "RangeIndex: 188533 entries, 0 to 188532\n",
      "Data columns (total 12 columns):\n",
      " #   Column        Non-Null Count   Dtype \n",
      "---  ------        --------------   ----- \n",
      " 0   brand         188533 non-null  object\n",
      " 1   model         188533 non-null  object\n",
      " 2   model_year    188533 non-null  int64 \n",
      " 3   milage        188533 non-null  int64 \n",
      " 4   fuel_type     188533 non-null  object\n",
      " 5   engine        188533 non-null  object\n",
      " 6   transmission  188533 non-null  object\n",
      " 7   ext_col       188533 non-null  object\n",
      " 8   int_col       188533 non-null  object\n",
      " 9   accident      188533 non-null  object\n",
      " 10  clean_title   188533 non-null  object\n",
      " 11  price         188533 non-null  int64 \n",
      "dtypes: int64(3), object(9)\n",
      "memory usage: 17.3+ MB\n"
     ]
    }
   ],
   "source": [
    "train_df.info()"
   ]
  },
  {
   "cell_type": "code",
   "execution_count": 36,
   "id": "3e592e1b",
   "metadata": {},
   "outputs": [],
   "source": [
    "sample_id = test_df['id']"
   ]
  },
  {
   "cell_type": "code",
   "execution_count": 37,
   "id": "0502c036",
   "metadata": {},
   "outputs": [],
   "source": [
    "test_df.drop('id', axis=1, inplace=True)"
   ]
  },
  {
   "cell_type": "code",
   "execution_count": 38,
   "id": "53020cb3",
   "metadata": {},
   "outputs": [
    {
     "name": "stdout",
     "output_type": "stream",
     "text": [
      "<class 'pandas.core.frame.DataFrame'>\n",
      "RangeIndex: 125690 entries, 0 to 125689\n",
      "Data columns (total 11 columns):\n",
      " #   Column        Non-Null Count   Dtype \n",
      "---  ------        --------------   ----- \n",
      " 0   brand         125690 non-null  object\n",
      " 1   model         125690 non-null  object\n",
      " 2   model_year    125690 non-null  int64 \n",
      " 3   milage        125690 non-null  int64 \n",
      " 4   fuel_type     125690 non-null  object\n",
      " 5   engine        125690 non-null  object\n",
      " 6   transmission  125690 non-null  object\n",
      " 7   ext_col       125690 non-null  object\n",
      " 8   int_col       125690 non-null  object\n",
      " 9   accident      125690 non-null  object\n",
      " 10  clean_title   125690 non-null  object\n",
      "dtypes: int64(2), object(9)\n",
      "memory usage: 10.5+ MB\n"
     ]
    }
   ],
   "source": [
    "test_df.info()"
   ]
  },
  {
   "cell_type": "code",
   "execution_count": 39,
   "id": "a190d7a8",
   "metadata": {},
   "outputs": [
    {
     "data": {
      "text/plain": [
       "dtype('int64')"
      ]
     },
     "execution_count": 39,
     "metadata": {},
     "output_type": "execute_result"
    }
   ],
   "source": [
    "train_df['model_year'].dtype"
   ]
  },
  {
   "cell_type": "code",
   "execution_count": 40,
   "id": "284644db",
   "metadata": {},
   "outputs": [],
   "source": [
    "train_df['model_year'] = train_df['model_year'].astype(str)\n",
    "test_df['model_year'] = test_df['model_year'].astype(str)"
   ]
  },
  {
   "cell_type": "code",
   "execution_count": 41,
   "id": "8cbeaf0c",
   "metadata": {},
   "outputs": [
    {
     "name": "stdout",
     "output_type": "stream",
     "text": [
      "<class 'pandas.core.frame.DataFrame'>\n",
      "RangeIndex: 188533 entries, 0 to 188532\n",
      "Data columns (total 12 columns):\n",
      " #   Column        Non-Null Count   Dtype \n",
      "---  ------        --------------   ----- \n",
      " 0   brand         188533 non-null  object\n",
      " 1   model         188533 non-null  object\n",
      " 2   model_year    188533 non-null  object\n",
      " 3   milage        188533 non-null  int64 \n",
      " 4   fuel_type     188533 non-null  object\n",
      " 5   engine        188533 non-null  object\n",
      " 6   transmission  188533 non-null  object\n",
      " 7   ext_col       188533 non-null  object\n",
      " 8   int_col       188533 non-null  object\n",
      " 9   accident      188533 non-null  object\n",
      " 10  clean_title   188533 non-null  object\n",
      " 11  price         188533 non-null  int64 \n",
      "dtypes: int64(2), object(10)\n",
      "memory usage: 17.3+ MB\n"
     ]
    }
   ],
   "source": [
    "train_df.info()"
   ]
  },
  {
   "cell_type": "code",
   "execution_count": 42,
   "id": "70e731c9",
   "metadata": {},
   "outputs": [],
   "source": [
    "# Split data for training\n",
    "\n",
    "X = train_df.drop('price', axis = 1)\n",
    "y = train_df['price']"
   ]
  },
  {
   "cell_type": "code",
   "execution_count": 43,
   "id": "268722f7",
   "metadata": {},
   "outputs": [
    {
     "ename": "ModuleNotFoundError",
     "evalue": "No module named 'feature_engine'",
     "output_type": "error",
     "traceback": [
      "\u001b[1;31m---------------------------------------------------------------------------\u001b[0m",
      "\u001b[1;31mModuleNotFoundError\u001b[0m                       Traceback (most recent call last)",
      "\u001b[1;32m~\\AppData\\Local\\Temp/ipykernel_15780/1124724123.py\u001b[0m in \u001b[0;36m<module>\u001b[1;34m\u001b[0m\n\u001b[1;32m----> 1\u001b[1;33m \u001b[1;32mfrom\u001b[0m \u001b[0mfeature_engine\u001b[0m\u001b[1;33m.\u001b[0m\u001b[0mencoding\u001b[0m \u001b[1;32mimport\u001b[0m \u001b[0mRareLabelEncoder\u001b[0m\u001b[1;33m\u001b[0m\u001b[1;33m\u001b[0m\u001b[0m\n\u001b[0m\u001b[0;32m      2\u001b[0m \u001b[1;33m\u001b[0m\u001b[0m\n\u001b[0;32m      3\u001b[0m \u001b[1;32mfor\u001b[0m \u001b[0mcol\u001b[0m \u001b[1;32min\u001b[0m \u001b[0mX\u001b[0m\u001b[1;33m.\u001b[0m\u001b[0mcolumns\u001b[0m\u001b[1;33m:\u001b[0m\u001b[1;33m\u001b[0m\u001b[1;33m\u001b[0m\u001b[0m\n\u001b[0;32m      4\u001b[0m       \u001b[1;32mif\u001b[0m \u001b[0mX\u001b[0m\u001b[1;33m[\u001b[0m\u001b[0mcol\u001b[0m\u001b[1;33m]\u001b[0m\u001b[1;33m.\u001b[0m\u001b[0mdtype\u001b[0m \u001b[1;33m==\u001b[0m \u001b[1;34m'object'\u001b[0m\u001b[1;33m:\u001b[0m\u001b[1;33m\u001b[0m\u001b[1;33m\u001b[0m\u001b[0m\n\u001b[0;32m      5\u001b[0m             \u001b[0mrare_encoder\u001b[0m \u001b[1;33m=\u001b[0m \u001b[0mRareLabelEncoder\u001b[0m\u001b[1;33m(\u001b[0m\u001b[0mtol\u001b[0m\u001b[1;33m=\u001b[0m\u001b[1;36m0.0001\u001b[0m\u001b[1;33m,\u001b[0m \u001b[0mn_categories\u001b[0m\u001b[1;33m=\u001b[0m\u001b[1;36m10\u001b[0m\u001b[1;33m,\u001b[0m \u001b[0mvariables\u001b[0m\u001b[1;33m=\u001b[0m\u001b[1;33m[\u001b[0m\u001b[0mcol\u001b[0m\u001b[1;33m]\u001b[0m\u001b[1;33m)\u001b[0m\u001b[1;33m\u001b[0m\u001b[1;33m\u001b[0m\u001b[0m\n",
      "\u001b[1;31mModuleNotFoundError\u001b[0m: No module named 'feature_engine'"
     ]
    }
   ],
   "source": [
    "from feature_engine.encoding import RareLabelEncoder\n",
    "\n",
    "for col in X.columns:\n",
    "      if X[col].dtype == 'object':\n",
    "            rare_encoder = RareLabelEncoder(tol=0.0001, n_categories=10, variables=[col])\n",
    "            X = rare_encoder.fit_transform(X)\n",
    "            test_df = rare_encoder.transform(test_df)"
   ]
  },
  {
   "cell_type": "code",
   "execution_count": null,
   "id": "dcd6960d",
   "metadata": {},
   "outputs": [],
   "source": [
    "1 == 3"
   ]
  },
  {
   "cell_type": "code",
   "execution_count": 46,
   "id": "8f6f6943",
   "metadata": {},
   "outputs": [
    {
     "name": "stdout",
     "output_type": "stream",
     "text": [
      "Collecting feature-engine\n",
      "  Using cached feature_engine-1.8.1-py2.py3-none-any.whl (364 kB)\n",
      "Collecting pandas>=2.2.0\n",
      "  Using cached pandas-2.2.2-cp39-cp39-win_amd64.whl (11.6 MB)\n",
      "Requirement already satisfied: statsmodels>=0.11.1 in c:\\programdata\\anaconda3\\lib\\site-packages (from feature-engine) (0.12.2)\n",
      "Requirement already satisfied: numpy>=1.18.2 in c:\\programdata\\anaconda3\\lib\\site-packages (from feature-engine) (1.20.3)\n",
      "Requirement already satisfied: scipy>=1.4.1 in c:\\programdata\\anaconda3\\lib\\site-packages (from feature-engine) (1.7.1)\n",
      "Collecting scikit-learn>=1.4.0\n",
      "  Using cached scikit_learn-1.5.2-cp39-cp39-win_amd64.whl (11.0 MB)\n",
      "Requirement already satisfied: pytz>=2020.1 in c:\\programdata\\anaconda3\\lib\\site-packages (from pandas>=2.2.0->feature-engine) (2021.3)\n",
      "Collecting numpy>=1.18.2\n",
      "  Using cached numpy-2.0.2-cp39-cp39-win_amd64.whl (15.9 MB)\n",
      "Requirement already satisfied: python-dateutil>=2.8.2 in c:\\programdata\\anaconda3\\lib\\site-packages (from pandas>=2.2.0->feature-engine) (2.8.2)\n",
      "Requirement already satisfied: tzdata>=2022.7 in c:\\programdata\\anaconda3\\lib\\site-packages (from pandas>=2.2.0->feature-engine) (2024.1)\n",
      "Requirement already satisfied: six>=1.5 in c:\\programdata\\anaconda3\\lib\\site-packages (from python-dateutil>=2.8.2->pandas>=2.2.0->feature-engine) (1.16.0)\n",
      "Collecting threadpoolctl>=3.1.0\n",
      "  Using cached threadpoolctl-3.5.0-py3-none-any.whl (18 kB)\n",
      "Collecting joblib>=1.2.0\n",
      "  Using cached joblib-1.4.2-py3-none-any.whl (301 kB)\n",
      "Collecting numpy>=1.18.2\n",
      "  Using cached numpy-1.22.4-cp39-cp39-win_amd64.whl (14.7 MB)\n",
      "Requirement already satisfied: patsy>=0.5 in c:\\programdata\\anaconda3\\lib\\site-packages (from statsmodels>=0.11.1->feature-engine) (0.5.2)\n",
      "Installing collected packages: numpy, threadpoolctl, pandas, joblib, scikit-learn, feature-engine\n",
      "  Attempting uninstall: numpy\n",
      "    Found existing installation: numpy 1.20.3\n",
      "    Uninstalling numpy-1.20.3:\n"
     ]
    },
    {
     "name": "stderr",
     "output_type": "stream",
     "text": [
      "WARNING: Ignoring invalid distribution -umpy (c:\\programdata\\anaconda3\\lib\\site-packages)\n",
      "WARNING: Ignoring invalid distribution -rllib3 (c:\\programdata\\anaconda3\\lib\\site-packages)\n",
      "WARNING: Ignoring invalid distribution -raitlets (c:\\programdata\\anaconda3\\lib\\site-packages)\n",
      "WARNING: Ignoring invalid distribution - (c:\\programdata\\anaconda3\\lib\\site-packages)\n",
      "WARNING: Ignoring invalid distribution -umpy (c:\\programdata\\anaconda3\\lib\\site-packages)\n",
      "WARNING: Ignoring invalid distribution -rllib3 (c:\\programdata\\anaconda3\\lib\\site-packages)\n",
      "WARNING: Ignoring invalid distribution -raitlets (c:\\programdata\\anaconda3\\lib\\site-packages)\n",
      "WARNING: Ignoring invalid distribution - (c:\\programdata\\anaconda3\\lib\\site-packages)\n",
      "WARNING: Ignoring invalid distribution -umpy (c:\\programdata\\anaconda3\\lib\\site-packages)\n",
      "WARNING: Ignoring invalid distribution -rllib3 (c:\\programdata\\anaconda3\\lib\\site-packages)\n",
      "WARNING: Ignoring invalid distribution -raitlets (c:\\programdata\\anaconda3\\lib\\site-packages)\n",
      "WARNING: Ignoring invalid distribution - (c:\\programdata\\anaconda3\\lib\\site-packages)\n",
      "    WARNING: Ignoring invalid distribution -umpy (c:\\programdata\\anaconda3\\lib\\site-packages)\n",
      "    WARNING: Ignoring invalid distribution -rllib3 (c:\\programdata\\anaconda3\\lib\\site-packages)\n",
      "    WARNING: Ignoring invalid distribution -raitlets (c:\\programdata\\anaconda3\\lib\\site-packages)\n",
      "    WARNING: Ignoring invalid distribution - (c:\\programdata\\anaconda3\\lib\\site-packages)\n",
      "ERROR: Could not install packages due to an OSError: [WinError 5] Access is denied: 'c:\\\\programdata\\\\anaconda3\\\\lib\\\\site-packages\\\\numpy-1.20.3.dist-info\\\\direct_url.json'\n",
      "Consider using the `--user` option or check the permissions.\n",
      "\n",
      "WARNING: Ignoring invalid distribution -umpy (c:\\programdata\\anaconda3\\lib\\site-packages)\n",
      "WARNING: Ignoring invalid distribution -rllib3 (c:\\programdata\\anaconda3\\lib\\site-packages)\n",
      "WARNING: Ignoring invalid distribution -raitlets (c:\\programdata\\anaconda3\\lib\\site-packages)\n",
      "WARNING: Ignoring invalid distribution - (c:\\programdata\\anaconda3\\lib\\site-packages)\n",
      "WARNING: Ignoring invalid distribution -umpy (c:\\programdata\\anaconda3\\lib\\site-packages)\n",
      "WARNING: Ignoring invalid distribution -rllib3 (c:\\programdata\\anaconda3\\lib\\site-packages)\n",
      "WARNING: Ignoring invalid distribution -raitlets (c:\\programdata\\anaconda3\\lib\\site-packages)\n",
      "WARNING: Ignoring invalid distribution - (c:\\programdata\\anaconda3\\lib\\site-packages)\n",
      "WARNING: Ignoring invalid distribution -umpy (c:\\programdata\\anaconda3\\lib\\site-packages)\n",
      "WARNING: Ignoring invalid distribution -rllib3 (c:\\programdata\\anaconda3\\lib\\site-packages)\n",
      "WARNING: Ignoring invalid distribution -raitlets (c:\\programdata\\anaconda3\\lib\\site-packages)\n",
      "WARNING: Ignoring invalid distribution - (c:\\programdata\\anaconda3\\lib\\site-packages)\n"
     ]
    }
   ],
   "source": [
    "!pip install feature-engine"
   ]
  },
  {
   "cell_type": "code",
   "execution_count": 47,
   "id": "a0ab7ded",
   "metadata": {},
   "outputs": [
    {
     "ename": "ModuleNotFoundError",
     "evalue": "No module named 'feature_engine'",
     "output_type": "error",
     "traceback": [
      "\u001b[1;31m---------------------------------------------------------------------------\u001b[0m",
      "\u001b[1;31mModuleNotFoundError\u001b[0m                       Traceback (most recent call last)",
      "\u001b[1;32m~\\AppData\\Local\\Temp/ipykernel_15780/243869425.py\u001b[0m in \u001b[0;36m<module>\u001b[1;34m\u001b[0m\n\u001b[1;32m----> 1\u001b[1;33m \u001b[1;32mimport\u001b[0m \u001b[0mfeature_engine\u001b[0m\u001b[1;33m\u001b[0m\u001b[1;33m\u001b[0m\u001b[0m\n\u001b[0m",
      "\u001b[1;31mModuleNotFoundError\u001b[0m: No module named 'feature_engine'"
     ]
    }
   ],
   "source": [
    "import feature_engine"
   ]
  },
  {
   "cell_type": "code",
   "execution_count": 45,
   "id": "6d1146be",
   "metadata": {},
   "outputs": [
    {
     "name": "stderr",
     "output_type": "stream",
     "text": [
      "WARNING: Ignoring invalid distribution -umpy (c:\\programdata\\anaconda3\\lib\\site-packages)\n",
      "WARNING: Ignoring invalid distribution -rllib3 (c:\\programdata\\anaconda3\\lib\\site-packages)\n",
      "WARNING: Ignoring invalid distribution -raitlets (c:\\programdata\\anaconda3\\lib\\site-packages)\n",
      "WARNING: Ignoring invalid distribution - (c:\\programdata\\anaconda3\\lib\\site-packages)\n",
      "WARNING: Package(s) not found: feature-engine\n"
     ]
    }
   ],
   "source": [
    "!pip show feature-engine"
   ]
  },
  {
   "cell_type": "code",
   "execution_count": null,
   "id": "8ec39c08",
   "metadata": {},
   "outputs": [],
   "source": []
  }
 ],
 "metadata": {
  "kernelspec": {
   "display_name": "Python 3 (ipykernel)",
   "language": "python",
   "name": "python3"
  },
  "language_info": {
   "codemirror_mode": {
    "name": "ipython",
    "version": 3
   },
   "file_extension": ".py",
   "mimetype": "text/x-python",
   "name": "python",
   "nbconvert_exporter": "python",
   "pygments_lexer": "ipython3",
   "version": "3.9.7"
  }
 },
 "nbformat": 4,
 "nbformat_minor": 5
}
